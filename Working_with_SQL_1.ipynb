{
  "nbformat": 4,
  "nbformat_minor": 0,
  "metadata": {
    "colab": {
      "provenance": [],
      "authorship_tag": "ABX9TyMa4TdSO12LCSm6MT2xAkJz",
      "include_colab_link": true
    },
    "kernelspec": {
      "name": "python3",
      "display_name": "Python 3"
    },
    "language_info": {
      "name": "python"
    }
  },
  "cells": [
    {
      "cell_type": "markdown",
      "metadata": {
        "id": "view-in-github",
        "colab_type": "text"
      },
      "source": [
        "<a href=\"https://colab.research.google.com/github/ArpithMathaiPaul/Introduction-to-SQL/blob/main/Working_with_SQL_1.ipynb\" target=\"_parent\"><img src=\"https://colab.research.google.com/assets/colab-badge.svg\" alt=\"Open In Colab\"/></a>"
      ]
    },
    {
      "cell_type": "code",
      "execution_count": null,
      "metadata": {
        "id": "gZmwiljx6o3u"
      },
      "outputs": [],
      "source": [
        "import sqlite3\n",
        "\n",
        " \n",
        "X = sqlite3.connect('NeDB.db')\n",
        " \n",
        "Y = X.cursor()\n",
        "\n",
        " \n",
        "Y.execute('''CREATE TABLE Employee(date text, First_Name text, Last_Name text, Age real)''')\n",
        "\n",
        " \n",
        "Y.execute(\"INSERT INTO Employee VALUES ('2020-01-01','John','Adam',32)\")\n",
        " \n",
        "X.commit()\n",
        "\n",
        "Y.close()"
      ]
    },
    {
      "cell_type": "code",
      "source": [
        "import sqlite3\n",
        "X=sqlite3.connect('NeDB4.db')\n",
        "Y=X.cursor()\n",
        "Y.execute(' ' 'CREATE TABLE Employee(date text, First_Name text, Last_Name text, Age real)''')\n",
        "Y.execute(\"INSERT INTO Employee VALUES ('2020-01-01', 'John', 'Adam',32),('2020-01-01', 'Mike', 'Joseph',30),('2020-01-01', 'Ann', 'Maria',32);\")\n",
        "X.commit()\n",
        "Y.close()"
      ],
      "metadata": {
        "id": "-KBF8Krb8E6q"
      },
      "execution_count": null,
      "outputs": []
    },
    {
      "cell_type": "code",
      "source": [
        "import sqlite3\n",
        "conn=sqlite3.connect('NewDB1.db')\n",
        "cursor=conn.cursor()\n",
        "table=\"\"\"CREATE TABLE STUDENT(NAME VARCHAR(255), CLASS VARCHAR(255), SECTION VARCHAR(255));\"\"\"\n",
        "cursor.execute(table)\n",
        "students=[('John', '8', 'A'),\n",
        "          ('Adam', '8', 'B'),\n",
        "          ('Ann', '10', 'A'),]\n",
        "cursor.executemany('INSERT INTO STUDENT VALUES (?,?,?)', students)\n",
        "print(\"Data Inserted in the table: \")\n",
        "data=cursor.execute('''SELECT * FROM STUDENT''')\n",
        "for row in data:\n",
        "        print(row)\n",
        "conn.commit()\n",
        "conn.close()"
      ],
      "metadata": {
        "colab": {
          "base_uri": "https://localhost:8080/"
        },
        "id": "QC8x-xoOFZPi",
        "outputId": "4c9c583a-cc67-49c5-c408-ce46c8bbbd5a"
      },
      "execution_count": null,
      "outputs": [
        {
          "output_type": "stream",
          "name": "stdout",
          "text": [
            "Data Inserted in the table: \n",
            "('John', '8', 'A')\n",
            "('Adam', '8', 'B')\n",
            "('Ann', '10', 'A')\n"
          ]
        }
      ]
    },
    {
      "cell_type": "code",
      "source": [],
      "metadata": {
        "id": "XwNeWvPsJ1L-"
      },
      "execution_count": null,
      "outputs": []
    }
  ]
}